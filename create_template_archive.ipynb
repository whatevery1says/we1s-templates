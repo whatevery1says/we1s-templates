{
 "cells": [
  {
   "cell_type": "markdown",
   "metadata": {},
   "source": [
    "# Create Template Archive\n",
    "\n",
    "This notebook is used by the WE1S project to create new versions of template archives. Although by default new projects are created from the latest template archive file available on GitHub, users can also use this notebook to create custom templates.\n",
    "\n",
    "Templates are stored as `.tar.gz` archive files. This notebook generates an archive of a template folder by importing the `template_package.py` script. This script can also be run from the command line (see the documentation inside the script file).\n",
    "\n",
    "Configure the following variables before running:\n",
    "\n",
    "- `name`: The name of the template file you wish to create.\n",
    "- `version`: The semantic versioning version number of the template.\n",
    "- `author`: The name of the create of the template archive (not the author(s) of the templates).\n",
    "- `template_source`: The path to the folder you wish to archive.\n",
    "- `archive_file`: The name of the archive file you wish to create. The extension `.tar.gz` is optional for this setting.\n",
    "\n",
    "After `package.create_datapackage()` is run in the cell below, you can see the datapackage and README files by calling `package.datapackage.descriptor` and `package.readme`."
   ]
  },
  {
   "cell_type": "code",
   "execution_count": null,
   "metadata": {},
   "outputs": [],
   "source": [
    "# Configuration\n",
    "name = 'project_template-0.1.9'\n",
    "version = '0.1.9'\n",
    "author = ''\n",
    "template_source = 'project_template'\n",
    "archive_file = 'project_template-0.1.9'\n",
    "\n",
    "# Import the TemplatePackage class\n",
    "from template_package import TemplatePackage\n",
    "\n",
    "# Create the package\n",
    "package = TemplatePackage(name, version, author)\n",
    "# Add a datapackage and README file\n",
    "package.create_datapackage(template_source)\n",
    "# Make the archive\n",
    "package.make_archive(template_source, archive_file)"
   ]
  }
 ],
 "metadata": {
  "kernelspec": {
   "display_name": "Python 3",
   "language": "python",
   "name": "python3"
  },
  "language_info": {
   "codemirror_mode": {
    "name": "ipython",
    "version": 3
   },
   "file_extension": ".py",
   "mimetype": "text/x-python",
   "name": "python",
   "nbconvert_exporter": "python",
   "pygments_lexer": "ipython3",
   "version": "3.6.8"
  }
 },
 "nbformat": 4,
 "nbformat_minor": 2
}
