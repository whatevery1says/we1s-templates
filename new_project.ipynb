{
 "cells": [
  {
   "attachments": {},
   "cell_type": "markdown",
   "metadata": {},
   "source": [
    "# Create New Project\n",
    "\n",
    "\n",
    "<p style=\"color:red;\">This is a read-only notebook. It may be customized and run, but settings will only be saved in the newly generated projects.</p>\n",
    "\n",
    "This notebook is used to create a new project based on a template file. If you are unsure of the terminology used here, please see the Glossary on the <a href=\"https://we1s.ucsb.edu/research/we1s-tools-and-software/key-tools-and-software/\" target=\"_blank\">WE1S Key Tools & Software</a> page or, once you have created a project, in your project's `getting_started.md` file.\n",
    "\n",
    "Note that if you have previously run this notebook, you may want to clear the outputs before proceeding to ensure that your project has the correct configurations."
   ]
  },
  {
   "attachments": {},
   "cell_type": "markdown",
   "metadata": {},
   "source": [
    "## General Project Configuration\n",
    "\n",
    "The following cell sets configurations that will be used throughout your project. The settings you define here will be written to your project's `config/config.py` file. **If you are unsure what to put here, leave the default settings.**\n",
    "\n",
    "- `PROJECT_ROOT`: The location where your project will be stored. By default, this is your `write` directory, but you can add subfolders such as `projects` or `projects/2020` to the end of the path if you do not wish to store project at the top level of the `write` directory.\n",
    "- `PORT`: The server port number where you will run project notebooks. If your server does not use the default port number `11111`, change it here.\n",
    "- `MONGODB_CLIENT`: If you are using MongoDB as a data source or saving data to MongoDB, you can set the client url here. Otherwise, you can leave the default or change it to an empty string."
   ]
  },
  {
   "cell_type": "code",
   "execution_count": 1,
   "metadata": {},
   "outputs": [],
   "source": [
    "PROJECT_ROOT      = '/home'\n",
    "PORT              = '11111'\n",
    "MONGODB_CLIENT    = 'mongodb://mongo:27017'"
   ]
  },
  {
   "attachments": {},
   "cell_type": "markdown",
   "metadata": {},
   "source": [
    "## Configure Metadata\n",
    "\n",
    "When your project is created, it will have a `README.md` file containing metadata about the project. The configuration values you set in the next cell will be displayed in your project's `README.md` file.\n",
    "\n",
    "- `project_name`: A unique identifier for the project. It must include only lower case letters, numbers, \"-\", and \"\\_\". It is helpful for `project_name` identifiers to be semi-human readable. For instance, a `project_name` might be \"new_york_times_2010-2015\". When your project is created, the `project_name` will be prefixed by a time-date stamp representing when the project was created.\n",
    "- `project_title`: A human-readable title for the project, which should typically follow standard capitalization rules for titles. Formatting should be indicated with <a href=\"https://en.wikipedia.org/wiki/Markdown#Example\" target=\"_blank\">Markdown</a> For example, \"_New York Times_ Articles from 2010-2015\".\n",
    "- `contributors`: The name of the creator or contributors to the project. Projects created by single individuals can give the creator's name in single quotes (e.g. `'John Smith'`). Projects created by more than one person should provide a comma-separated list of quoted names in square brackets (e.g. [`'Jane Smith', 'John Smith'`].\n",
    "- `description`: A prose description of the project. Formatting should be indicated with <a href=\"https://en.wikipedia.org/wiki/Markdown#Example\" target=\"_blank\">Markdown</a>."
   ]
  },
  {
   "cell_type": "code",
   "execution_count": 2,
   "metadata": {},
   "outputs": [],
   "source": [
    "# Project Metadata\n",
    "project_name      = 'test' # Include only lower case letters, numbers, \"-\", and \"_\"\n",
    "project_title     = 'Test'\n",
    "contributors      = 'Your name' # String or list\n",
    "description       = 'Description of the project.'\n"
   ]
  },
  {
   "attachments": {},
   "cell_type": "markdown",
   "metadata": {},
   "source": [
    "## Select Project Template Source\n",
    "\n",
    "A new project is a single directory into which modules are copied from a project template. Project templates are `.tar.gz` archives which you can import to your project directory from a local folder or a url. If you are working in a server environment, the template zip file must be uploaded to the server and imported from the upload directory. Enter either a filepath or a url for the archive file for the `template_source` setting.\n",
    "\n",
    "To use the latest template, configure `template_source='latest'`. This will download the most recent <a href=\"https://github.com/whatevery1says/we1s-templates/releases\" target=\"_blank\">release from GitHub</a>, so you must have an internet connection.\n",
    "\n",
    "The `.tar.gz` file is no longer needed after it has been extracted, so by default it is removed from your project folder. If for some reason you want to keep the file, you can do so by setting `remove_package=False`. "
   ]
  },
  {
   "cell_type": "code",
   "execution_count": 3,
   "metadata": {},
   "outputs": [],
   "source": [
    "template_source  = 'dist/latest/project_template-0.1.9.tar.gz'\n",
    "remove_package   = True"
   ]
  },
  {
   "attachments": {},
   "cell_type": "markdown",
   "metadata": {},
   "source": [
    "## Create Project\n",
    "\n",
    "This cell will create your project folder, extract the project template to that folder, and provide a link to the new project. If you create project by mistake, the final cell in this notebook provides a method of deleting it."
   ]
  },
  {
   "cell_type": "code",
   "execution_count": 4,
   "metadata": {},
   "outputs": [
    {
     "name": "stdout",
     "output_type": "stream",
     "text": [
      "Template archive extracted.\n"
     ]
    },
    {
     "data": {
      "text/html": [
       "<h4>Your project called 20230614_1548_test was created successfully.</h4>"
      ],
      "text/plain": [
       "<IPython.core.display.HTML object>"
      ]
     },
     "metadata": {},
     "output_type": "display_data"
    },
    {
     "data": {
      "text/html": [
       "<p>Go to your project directory at <a href=\"/home/20230614_1548_test\" target=\"top\">/home/20230614_1548_test</a> (please make a note of the url).</p>"
      ],
      "text/plain": [
       "<IPython.core.display.HTML object>"
      ]
     },
     "metadata": {},
     "output_type": "display_data"
    }
   ],
   "source": [
    "# Python Imports\n",
    "import json\n",
    "import os\n",
    "import re\n",
    "import requests\n",
    "import shutil\n",
    "import zipfile\n",
    "from datetime import datetime\n",
    "from IPython.display import display, HTML\n",
    "from pathlib import Path\n",
    "\n",
    "# Import the TemplatePackage class\n",
    "from template_package import TemplatePackage\n",
    "\n",
    "# Create the project variables\n",
    "errors = False\n",
    "now = datetime.today()\n",
    "created = now.strftime('%Y-%m-%d %H:%M:%S')\n",
    "project_full_name =  now.strftime('%Y%m%d_%H%M_') + project_name\n",
    "project_dir = os.path.join(PROJECT_ROOT, project_full_name)\n",
    "if isinstance(contributors, list):\n",
    "    contributors = ', '.join(contributors)\n",
    "\n",
    "# Validate the project name\n",
    "if re.search('[^a-z0-9-_]', project_name):\n",
    "    errors = True\n",
    "    msg = \"\"\"Your `project_name` must contain only lower case letters, numbers, \"-\", and \"_\".\n",
    "              Please remove invalid characters and re-run this cell.\"\"\"\n",
    "    display(HTML('<p style=\"color:red;\">' + msg + '</p>'))\n",
    "\n",
    "# Create the template package\n",
    "package = TemplatePackage()\n",
    "# Load the archive to the project directory\n",
    "package.load(template_source, project_dir)\n",
    "# Extract the archive to the project location with option to remove\n",
    "archive_filename = str(Path(template_source).name)\n",
    "archive_filepath = os.path.join(project_dir, archive_filename)\n",
    "package.extract(archive_filepath, project_dir, remove_package=remove_package)\n",
    "\n",
    "# Localise datapackage resources\n",
    "with open(os.path.join(project_dir, 'datapackage.json'), 'r') as f:\n",
    "    doc = json.loads(f.read())\n",
    "    for i, item in enumerate(doc['resources']):\n",
    "        doc['resources'][i] = item['path'].replace('project_template', project_dir)\n",
    "with open(os.path.join(project_dir, 'datapackage.json'), 'w') as f:\n",
    "        f.write(json.dumps(doc, indent=2))\n",
    "\n",
    "# Copy the config values into the DEFAULT config file\n",
    "with open(project_dir + '/config/config.py', 'r') as f:\n",
    "    config = f.read()\n",
    "config = re.sub(r'(PROJECT_ROOT\\s+= )\\'.+\\'', r\"\\1'\" + PROJECT_ROOT + \"'\", config)\n",
    "config = re.sub(r'(PORT\\s+= )\\'.+\\'', r\"\\1'\" + PORT + \"'\", config)\n",
    "config = re.sub(r'(MONGODB_CLIENT\\s+= )\\'.+\\'', r\"\\1'\" + MONGODB_CLIENT + \"'\", config)\n",
    "with open(project_dir + '/config/config.py', 'w') as f:\n",
    "    f.write(config)\n",
    "\n",
    "# Handle the README file\n",
    "readme_template = '# README\\n\\n'\n",
    "readme_template += '**Project Name:** ' + project_full_name + '\\n'\n",
    "readme_template += '**Project Title:** ' + project_title + '\\n'\n",
    "readme_template += '**Contributors:** ' + contributors + '\\n'\n",
    "readme_template += '**Created:** ' + created + '\\n\\n'\n",
    "readme_template += '**Description:** ' + description + '\\n'\n",
    "# Create a basic README file if it does not exist\n",
    "if not os.path.exists(os.path.join(project_dir, 'README.md')):\n",
    "    try:\n",
    "        with open(os.path.join(project_dir, 'README.md'), 'w') as f:\n",
    "            f.write(readme_template)\n",
    "    except IOError:\n",
    "        errors = True\n",
    "        display(HTML('<p style=\"color:red;\">Could not create a README.md file.</p>'))\n",
    "# Otherwise, add the template information to the end of the README file\n",
    "else:\n",
    "    try:\n",
    "        with open(os.path.join(project_dir, 'README.md'), 'r') as f:\n",
    "            text = f.read()\n",
    "            text = readme_template + '\\n\\n' + text\n",
    "    except IOError:\n",
    "        errors = True\n",
    "        display(HTML('<p style=\"color:red;\">Could not open the README.md file.</p>'))\n",
    "    try:\n",
    "        with open(os.path.join(project_dir, 'README.md'), 'w') as f:\n",
    "            f.write(text)\n",
    "    except IOError:\n",
    "        errors = True\n",
    "        display(HTML('<p style=\"color:red;\">Could not modify the README.md file.</p>'))\n",
    "\n",
    "# Display a success message and a link to the project directory\n",
    "if errors is False:\n",
    "    url = PROJECT_ROOT.replace('home/jovyan', 'tree')\n",
    "    url = os.path.join(url, project_full_name)\n",
    "    display(HTML('<h4>Your project called ' + project_full_name + ' was created successfully.</h4>'))\n",
    "    display(HTML('<p>Go to your project directory at <a href=\"' + url + '\" target=\"top\">' + url + '</a> (please make a note of the url).</p>'))\n",
    "else:\n",
    "    msg = \"\"\"The project could not be created. Please check your settings and ensure that the template zip file\n",
    "              is in the expected location.\"\"\"\n",
    "    display(HTML('<p style=\"color:red;\">' + msg + '</p>'))"
   ]
  },
  {
   "attachments": {},
   "cell_type": "markdown",
   "metadata": {},
   "source": [
    "## Delete a Project\n",
    "\n",
    "In case you mistakenly create a project and you want to delete it, this cell is provided for convenience. Just configure the path to the project directory and set `delete=True` (by default it is false in case the entire notebook is run at once)."
   ]
  },
  {
   "cell_type": "code",
   "execution_count": 5,
   "metadata": {},
   "outputs": [
    {
     "data": {
      "text/html": [
       "<p style=\"color:green;\">Project deleted.</p>"
      ],
      "text/plain": [
       "<IPython.core.display.HTML object>"
      ]
     },
     "metadata": {},
     "output_type": "display_data"
    }
   ],
   "source": [
    "# Configure the path to the project folder.\n",
    "# By default, it is based on the configurations above -- you may need to re-run the first cell.\n",
    "\n",
    "PROJECT_ROOT = '/home'\n",
    "project_dir  = os.path.join(PROJECT_ROOT, project_full_name)\n",
    "delete       = False\n",
    "\n",
    "if delete:\n",
    "    import shutil\n",
    "    from IPython.display import display, HTML\n",
    "    try:\n",
    "        shutil.rmtree(project_dir)\n",
    "        display(HTML('<p style=\"color:green;\">Project deleted.</p>'))\n",
    "    except IOError:\n",
    "        display(HTML('<p style=\"color:red;\">Something went wrong. The project could not be deleted.</p>'))"
   ]
  }
 ],
 "metadata": {
  "kernelspec": {
   "display_name": "Python 3",
   "language": "python",
   "name": "python3"
  },
  "language_info": {
   "codemirror_mode": {
    "name": "ipython",
    "version": 3
   },
   "file_extension": ".py",
   "mimetype": "text/x-python",
   "name": "python",
   "nbconvert_exporter": "python",
   "pygments_lexer": "ipython3",
   "version": "3.10.6"
  }
 },
 "nbformat": 4,
 "nbformat_minor": 2
}
